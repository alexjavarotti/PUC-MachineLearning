{
  "nbformat": 4,
  "nbformat_minor": 0,
  "metadata": {
    "colab": {
      "name": "PUC (ML) Introdução.ipynb",
      "provenance": [],
      "authorship_tag": "ABX9TyOv/COODVTgv8JKiC3Uz+Qn",
      "include_colab_link": true
    },
    "kernelspec": {
      "name": "python3",
      "display_name": "Python 3"
    },
    "language_info": {
      "name": "python"
    }
  },
  "cells": [
    {
      "cell_type": "markdown",
      "metadata": {
        "id": "view-in-github",
        "colab_type": "text"
      },
      "source": [
        "<a href=\"https://colab.research.google.com/github/alexjavarotti/PUC-MachineLearning/blob/main/PUC_(ML)_Introdu%C3%A7%C3%A3o.ipynb\" target=\"_parent\"><img src=\"https://colab.research.google.com/assets/colab-badge.svg\" alt=\"Open In Colab\"/></a>"
      ]
    },
    {
      "cell_type": "markdown",
      "source": [
        "# Introdução\n",
        "Apresentação das características básicas do Colab\n",
        "Baseado no livro \"Introduction to Machine Learning wih Python\" do Andreas C. Muller"
      ],
      "metadata": {
        "id": "DIoNZchBXvyL"
      }
    },
    {
      "cell_type": "code",
      "source": [
        ""
      ],
      "metadata": {
        "id": "GFKUPoIRhcKo"
      },
      "execution_count": null,
      "outputs": []
    },
    {
      "cell_type": "code",
      "source": [
        "from sklearn.datasets import load_iris\n",
        "from sklearn.model_selection import train_test_split\n",
        "from sklearn.neighbors import KNeighborsClassifier\n",
        "import matplotlib.pyplot as plt\n",
        "import numpy as np\n",
        "import pandas as pd\n",
        "import seaborn as sns"
      ],
      "metadata": {
        "id": "Qg-vV336Y4Lx"
      },
      "execution_count": 5,
      "outputs": []
    },
    {
      "cell_type": "code",
      "source": [
        "iris = load_iris()\n",
        "X = iris['data']\n",
        "y = iris['target']"
      ],
      "metadata": {
        "id": "H5vqtA15aOBw"
      },
      "execution_count": 6,
      "outputs": []
    },
    {
      "cell_type": "markdown",
      "source": [
        "### Explorando Dados\n",
        "Descrevando os dados do dataset iris"
      ],
      "metadata": {
        "id": "v7YwcSNXfDX0"
      }
    },
    {
      "cell_type": "code",
      "source": [
        "print(\"\\nCampos do data set Iris ({0}):\\n{1}\\n\".format(\"iris.keys()\", iris.keys()))"
      ],
      "metadata": {
        "colab": {
          "base_uri": "https://localhost:8080/"
        },
        "id": "9sA9PBN0hhAy",
        "outputId": "aebcbbd0-d1cf-4dba-9b18-15ce2518acd2"
      },
      "execution_count": 16,
      "outputs": [
        {
          "output_type": "stream",
          "name": "stdout",
          "text": [
            "\n",
            "Campos do data set Iris (iris.keys()):\n",
            "dict_keys(['data', 'target', 'frame', 'target_names', 'DESCR', 'feature_names', 'filename', 'data_module'])\n",
            "\n"
          ]
        }
      ]
    }
  ]
}